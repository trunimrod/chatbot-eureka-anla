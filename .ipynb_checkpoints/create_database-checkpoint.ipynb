{
 "cells": [
  {
   "cell_type": "markdown",
   "metadata": {},
   "source": [
    "# Notebook 1: Creador de la Base de Datos Vectorial\n",
    "\n",
    "**Objetivo:** Leer `eureka-merge.txt`, procesarlo y guardar los vectores en una base de datos ChromaDB persistente en el disco."
   ]
  },
  {
   "cell_type": "markdown",
   "metadata": {},
   "source": [
    "## Celda 1: Instalación y Configuración"
   ]
  },
  {
   "cell_type": "code",
   "execution_count": null,
   "metadata": {},
   "outputs": [],
   "source": [
    "import os\n",
    "import logging\n",
    "import shutil\n",
    "from pathlib import Path\n",
    "\n",
    "# Instalar dependencias necesarias para la indexación\n",
    "!pip install -qU chromadb langchain langchain-community langchain-ollama langchain-text-splitters python-dotenv sentence-transformers\n",
    "\n",
    "from langchain_community.document_loaders import TextLoader\n",
    "from langchain_text_splitters import RecursiveCharacterTextSplitter\n",
    "from langchain_ollama.embeddings import OllamaEmbeddings\n",
    "from langchain_community.vectorstores import Chroma\n",
    "\n",
    "# Configurar logging\n",
    "logging.basicConfig(level=logging.INFO, format='%(asctime)s - %(levelname)s - %(message)s')\n",
    "logger = logging.getLogger(__name__)"
   ]
  },
  {
   "cell_type": "markdown",
   "metadata": {},
   "source": [
    "## Celda 2: Definir Parámetros"
   ]
  },
  {
   "cell_type": "code",
   "execution_count": null,
   "metadata": {},
   "outputs": [],
   "source": [
    "KNOWLEDGE_BASE_FILE = \"eureka-merge.txt\"\n",
    "PERSIST_DIRECTORY = \"./eureka_chroma_db\"\n",
    "EMBEDDING_MODEL = \"mxbai-embed-large\"\n",
    "CHUNK_SIZE = 800\n",
    "CHUNK_OVERLAP = 100"
   ]
  },
  {
   "cell_type": "markdown",
   "metadata": {},
   "source": [
    "## Celda 3: Proceso de Indexación"
   ]
  },
  {
   "cell_type": "code",
   "execution_count": null,
   "metadata": {},
   "outputs": [],
   "source": [
    "def create_vector_database():\n",
    "    \"\"\"Función principal para crear y guardar la base de datos vectorial.\"\"\"\n",
    "    # Validar que el archivo de conocimiento exista\n",
    "    if not os.path.exists(KNOWLEDGE_BASE_FILE):\n",
    "        logger.error(f\"❌ ERROR: El archivo '{KNOWLEDGE_BASE_FILE}' no se encontró. No se puede continuar.\")\n",
    "        return\n",
    "\n",
    "    # Si la base de datos ya existe, la eliminamos para asegurar una reconstrucción limpia\n",
    "    if os.path.exists(PERSIST_DIRECTORY):\n",
    "        logger.warning(f\"🗑️ La base de datos existente en '{PERSIST_DIRECTORY}' será eliminada para crear una nueva.\")\n",
    "        shutil.rmtree(PERSIST_DIRECTORY)\n",
    "\n",
    "    # 1. Cargar el documento\n",
    "    logger.info(f\"- Paso 1: Cargando '{KNOWLEDGE_BASE_FILE}'...\")\n",
    "    loader = TextLoader(KNOWLEDGE_BASE_FILE, encoding='utf-8')\n",
    "    documents = loader.load()\n",
    "\n",
    "    # 2. Dividir en chunks\n",
    "    logger.info(\"- Paso 2: Dividiendo el documento en chunks...\")\n",
    "    splitter = RecursiveCharacterTextSplitter(\n",
    "        chunk_size=CHUNK_SIZE,\n",
    "        chunk_overlap=CHUNK_OVERLAP\n",
    "    )\n",
    "    split_docs = splitter.split_documents(documents)\n",
    "\n",
    "    # 3. Inicializar embeddings\n",
    "    logger.info(f\"- Paso 3: Inicializando el modelo de embeddings '{EMBEDDING_MODEL}'...\")\n",
    "    embeddings = OllamaEmbeddings(model=EMBEDDING_MODEL)\n",
    "\n",
    "    # 4. Crear y guardar la base de datos en disco\n",
    "    logger.info(f\"- Paso 4: Creando y guardando la base de datos en '{PERSIST_DIRECTORY}'...\")\n",
    "    vectorstore = Chroma.from_documents(\n",
    "        documents=split_docs,\n",
    "        embedding=embeddings,\n",
    "        persist_directory=PERSIST_DIRECTORY\n",
    "    )\n",
    "\n",
    "    logger.info(f\"\\n✅ ¡Éxito! Base de datos creada en '{PERSIST_DIRECTORY}' con {vectorstore._collection.count()} vectores.\")\n",
    "    logger.info(\"Ahora puedes ejecutar el notebook del chatbot.\")\n",
    "\n",
    "# Ejecutar el proceso\n",
    "create_vector_database()"
   ]
  }
 ],
 "metadata": {
  "kernelspec": {
   "display_name": "Python 3",
   "language": "python",
   "name": "python3"
  },
  "language_info": {
   "codemirror_mode": {
    "name": "ipython",
    "version": 3
   },
   "file_extension": ".py",
   "mimetype": "text/x-python",
   "name": "python",
   "nbconvert_exporter": "python",
   "pygments_lexer": "ipython3",
   "version": "3.10.12"
  }
 },
 "nbformat": 4,
 "nbformat_minor": 4
}